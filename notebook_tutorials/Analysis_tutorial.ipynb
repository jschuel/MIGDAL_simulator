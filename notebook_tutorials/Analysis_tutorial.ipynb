{
 "cells": [
  {
   "cell_type": "code",
   "execution_count": null,
   "id": "0cac2340",
   "metadata": {},
   "outputs": [],
   "source": [
    "import pandas as pd\n",
    "import numpy as np\n",
    "from tqdm import tqdm #progressbar\n",
    "import matplotlib.pyplot as plt\n",
    "'''Setting up some rcparameters for better size axis labels'''\n",
    "plt.rc('legend', fontsize=12)\n",
    "plt.rc('xtick', labelsize=14)\n",
    "plt.rc('ytick', labelsize=14)\n",
    "plt.rc('axes', labelsize=16)\n",
    "plt.rc('axes', titlesize=16)"
   ]
  },
  {
   "cell_type": "markdown",
   "id": "1b7e2da7",
   "metadata": {},
   "source": [
    "### Input test data\n",
    "\n",
    "The test data here includes 30 simulated Migdal effect tracks. Here we'll show how to plot these events as well as a few examples for analysis"
   ]
  },
  {
   "cell_type": "code",
   "execution_count": null,
   "id": "690cd02e",
   "metadata": {},
   "outputs": [],
   "source": [
    "df = pd.read_feather(\"../data/test_output.feather\")"
   ]
  },
  {
   "cell_type": "markdown",
   "id": "04d4a75e",
   "metadata": {},
   "source": [
    "### Example 1: Plotting events with primary track info on top"
   ]
  },
  {
   "cell_type": "code",
   "execution_count": null,
   "id": "27264b54",
   "metadata": {},
   "outputs": [],
   "source": [
    "i = 28 #choose an event number\n",
    "tmp = df.iloc[i]\n",
    "\n",
    "plt.figure(figsize=(16,4.5))\n",
    "plt.subplot(1,2,1)\n",
    "\n",
    "'''Camera readout'''\n",
    "#Histogram camera readout track\n",
    "imhist = np.histogram2d(tmp['xcam'],tmp['ycam'],weights=tmp['qcam'],bins=(2048,1152),range=((0,2048),(0,1152)))[0].T\n",
    "#plt.imshow(np.log10(imhist+1),cmap='jet')\n",
    "plt.imshow(imhist,cmap='jet',aspect='auto')\n",
    "plt.colorbar()\n",
    "#Plot the primary track use black for NR and white for ER\n",
    "plt.scatter(tmp['x']*2048/8+2048/2,tmp['y']*2048/8+1152/2,c=tmp['ID'],cmap='Greys',s=0.5)\n",
    "plt.xlim(tmp['xcam'].min()-10,tmp['xcam'].max()+10)\n",
    "plt.ylim(tmp['ycam'].min()-10,tmp['ycam'].max()+10)\n",
    "plt.xlabel('x [pixels]')\n",
    "plt.ylabel('y [pixels]')\n",
    "\n",
    "plt.subplot(1,2,2)\n",
    "'''ITO readout'''\n",
    "#Histogram ITO readout track\n",
    "ITOhist = np.histogram2d(tmp['xITO'],tmp['zITO'],weights=tmp['qITO'],bins=(120,150),range=((0,120),(0,150)))[0].T\n",
    "plt.imshow(ITOhist,cmap='jet',aspect='auto')\n",
    "plt.colorbar()\n",
    "#Plot the primary track use black for NR and white for ER\n",
    "plt.scatter(tmp['x']*120/10+60,tmp['z']*150/3.9,c=tmp['ID'],cmap='Greys',s=0.5)\n",
    "plt.xlim(tmp['xITO'].min()-1,tmp['xITO'].max()+1)\n",
    "plt.ylim(tmp['zITO'].min()-1,tmp['zITO'].max()+1)\n",
    "plt.xlabel('x [strip]')\n",
    "plt.ylabel('z [sample]')\n",
    "plt.tight_layout()\n",
    "plt.show()"
   ]
  },
  {
   "cell_type": "markdown",
   "id": "5e3cd62f",
   "metadata": {},
   "source": [
    "### Example 2: We can plot just the ER portion by weighting the histogram by tmp['ER_frac_cam'] x tmp['qcam'] and similar for ITO. We can weight the NR portion using (1 - tmp['ER_frac_cam']) x tmp['qcam'] and similar for ITO"
   ]
  },
  {
   "cell_type": "code",
   "execution_count": null,
   "id": "4bf94711",
   "metadata": {},
   "outputs": [],
   "source": [
    "plt.figure(figsize=(16,9))\n",
    "\n",
    "plt.subplot(2,2,1)\n",
    "'''Camera just ER. We will keep both primary tracks on here'''\n",
    "#Histogram camera readout track\n",
    "imhist = np.histogram2d(tmp['xcam'],tmp['ycam'],weights=tmp['ER_frac_cam']*tmp['qcam'],bins=(2048,1152),range=((0,2048),(0,1152)))[0].T\n",
    "#plt.imshow(np.log10(imhist+1),cmap='jet')\n",
    "plt.imshow(imhist,cmap='jet',aspect='auto')\n",
    "plt.colorbar()\n",
    "#Plot the primary track use black for NR and white for ER\n",
    "plt.scatter(tmp['x']*2048/8+2048/2,tmp['y']*2048/8+1152/2,c=tmp['ID'],cmap='Greys',s=0.5)\n",
    "plt.xlim(tmp['xcam'].min()-10,tmp['xcam'].max()+10)\n",
    "plt.ylim(tmp['ycam'].min()-10,tmp['ycam'].max()+10)\n",
    "plt.xlabel('x [pixels]')\n",
    "plt.ylabel('y [pixels]')\n",
    "plt.title('ER camera')\n",
    "\n",
    "plt.subplot(2,2,2)\n",
    "'''ITO just ER. We will show both primary tracks'''\n",
    "#Histogram ITO readout track\n",
    "ITOhist = np.histogram2d(tmp['xITO'],tmp['zITO'],weights=tmp['ER_frac_ITO']*tmp['qITO'],bins=(120,150),range=((0,120),(0,150)))[0].T\n",
    "plt.imshow(ITOhist,cmap='jet',aspect='auto')\n",
    "plt.colorbar()\n",
    "#Plot the primary track use black for NR and white for ER\n",
    "plt.scatter(tmp['x']*120/10+60,tmp['z']*150/3.9,c=tmp['ID'],cmap='Greys',s=0.5)\n",
    "plt.xlim(tmp['xITO'].min()-1,tmp['xITO'].max()+1)\n",
    "plt.ylim(tmp['zITO'].min()-1,tmp['zITO'].max()+1)\n",
    "plt.xlabel('x [strip]')\n",
    "plt.ylabel('z [sample]')\n",
    "plt.title('ER ITO')\n",
    "\n",
    "plt.subplot(2,2,3)\n",
    "'''Camera just NR. We will keep both primary tracks on here'''\n",
    "#Histogram camera readout track\n",
    "imhist = np.histogram2d(tmp['xcam'],tmp['ycam'],weights=(1-tmp['ER_frac_cam'])*tmp['qcam'],bins=(2048,1152),range=((0,2048),(0,1152)))[0].T\n",
    "#plt.imshow(np.log10(imhist+1),cmap='jet')\n",
    "plt.imshow(imhist,cmap='jet',aspect='auto')\n",
    "plt.colorbar()\n",
    "#Plot the primary track use black for NR and white for ER\n",
    "plt.scatter(tmp['x']*2048/8+2048/2,tmp['y']*2048/8+1152/2,c=tmp['ID'],cmap='Greys',s=0.5)\n",
    "plt.xlim(tmp['xcam'].min()-10,tmp['xcam'].max()+10)\n",
    "plt.ylim(tmp['ycam'].min()-10,tmp['ycam'].max()+10)\n",
    "plt.xlabel('x [pixels]')\n",
    "plt.ylabel('y [pixels]')\n",
    "plt.title('NR camera')\n",
    "\n",
    "plt.subplot(2,2,4)\n",
    "'''ITO just NR. We will show both primary tracks'''\n",
    "#Histogram ITO readout track\n",
    "ITOhist = np.histogram2d(tmp['xITO'],tmp['zITO'],weights=(1-tmp['ER_frac_ITO'])*tmp['qITO'],bins=(120,150),range=((0,120),(0,150)))[0].T\n",
    "plt.imshow(ITOhist,cmap='jet',aspect='auto')\n",
    "plt.colorbar()\n",
    "#Plot the primary track use black for NR and white for ER\n",
    "plt.scatter(tmp['x']*120/10+60,tmp['z']*150/3.9,c=tmp['ID'],cmap='Greys',s=0.5)\n",
    "plt.xlim(tmp['xITO'].min()-1,tmp['xITO'].max()+1)\n",
    "plt.ylim(tmp['zITO'].min()-1,tmp['zITO'].max()+1)\n",
    "plt.xlabel('x [strip]')\n",
    "plt.ylabel('z [sample]')\n",
    "plt.title('NR ITO')\n",
    "plt.tight_layout()\n",
    "plt.show()"
   ]
  },
  {
   "cell_type": "markdown",
   "id": "49e1f12f",
   "metadata": {},
   "source": [
    "### Example 3: Let's look at the spatial distribution of ER fractional intensity in each pixel"
   ]
  },
  {
   "cell_type": "code",
   "execution_count": null,
   "id": "3383ce90",
   "metadata": {},
   "outputs": [],
   "source": [
    "plt.figure(figsize=(16,4.5))\n",
    "plt.subplot(1,2,1)\n",
    "\n",
    "'''Camera readout'''\n",
    "#Histogram camera readout track\n",
    "imhist = np.histogram2d(tmp['xcam'],tmp['ycam'],weights=tmp['ER_frac_cam'],bins=(2048,1152),range=((0,2048),(0,1152)))[0].T\n",
    "#plt.imshow(np.log10(imhist+1),cmap='jet')\n",
    "plt.imshow(imhist,cmap='jet',aspect='auto')\n",
    "plt.colorbar().set_label('ER fractional intensity',rotation = 270, labelpad = 25)\n",
    "#Plot the primary track use black for NR and white for ER\n",
    "plt.scatter(tmp['x']*2048/8+2048/2,tmp['y']*2048/8+1152/2,c=tmp['ID'],cmap='Greys',s=0.5)\n",
    "plt.xlim(tmp['xcam'].min()-10,tmp['xcam'].max()+10)\n",
    "plt.ylim(tmp['ycam'].min()-10,tmp['ycam'].max()+10)\n",
    "plt.xlabel('x [pixels]')\n",
    "plt.ylabel('y [pixels]')\n",
    "\n",
    "plt.subplot(1,2,2)\n",
    "'''ITO readout'''\n",
    "#Histogram ITO readout track\n",
    "ITOhist = np.histogram2d(tmp['xITO'],tmp['zITO'],weights=tmp['ER_frac_ITO'],bins=(120,150),range=((0,120),(0,150)))[0].T\n",
    "plt.imshow(ITOhist,cmap='jet',aspect='auto')\n",
    "plt.colorbar().set_label('ER fractional intensity',rotation = 270, labelpad = 25)\n",
    "#Plot the primary track use black for NR and white for ER\n",
    "plt.scatter(tmp['x']*120/10+60,tmp['z']*150/3.9,c=tmp['ID'],cmap='Greys',s=0.5)\n",
    "plt.xlim(tmp['xITO'].min()-1,tmp['xITO'].max()+1)\n",
    "plt.ylim(tmp['zITO'].min()-1,tmp['zITO'].max()+1)\n",
    "plt.xlabel('x [strip]')\n",
    "plt.ylabel('z [sample]')\n",
    "plt.tight_layout()\n",
    "plt.show()"
   ]
  },
  {
   "cell_type": "markdown",
   "id": "ce23ac60",
   "metadata": {},
   "source": [
    "### Example 4: Let's 4x4 bin our camera image and also 4x4 bin our fractional pixel intensity"
   ]
  },
  {
   "cell_type": "code",
   "execution_count": null,
   "id": "2fa27455",
   "metadata": {},
   "outputs": [],
   "source": [
    "def bin_track(i,fact=4):\n",
    "    tmp = df.iloc[i]\n",
    "    #histogram total image with fact x fact binning\n",
    "    totalim = np.histogram2d(tmp['xcam'],tmp['ycam'],weights=tmp['qcam'],\n",
    "                             bins=(2048//fact,1152//fact),range=((0,2048),(0,1152)))[0].T\n",
    "    #now grab just the ER portion\n",
    "    ERim = np.histogram2d(tmp['xcam'],tmp['ycam'],weights=tmp['ER_frac_cam']*tmp['qcam'],\n",
    "                          bins=(2048//fact,1152//fact),range=((0,2048),(0,1152)))[0].T\n",
    "    #nandivide the ER portion by the total image to get the fractional weights\n",
    "    ERfrac = np.divide(ERim, totalim, out=np.zeros_like(ERim, dtype=float), where=totalim != 0)\n",
    "    #sparse image\n",
    "    sp = np.where(totalim > 0)\n",
    "    #get sparse arrays of x, y, q, and frac after binning\n",
    "    yred,xred = sp\n",
    "    qred = totalim[sp]\n",
    "    fracred = ERfrac[sp]\n",
    "    return xred,yred,qred,fracred"
   ]
  },
  {
   "cell_type": "code",
   "execution_count": null,
   "id": "74dde1e8",
   "metadata": {},
   "outputs": [],
   "source": [
    "x,y,q,f = bin_track(i)\n",
    "plt.figure(figsize=(16,3.7))\n",
    "\n",
    "plt.subplot(1,2,1)\n",
    "im = np.histogram2d(x,y,weights=q,bins=(512,288),range=((0,512),(0,288)))[0].T\n",
    "plt.imshow(im,cmap='jet',aspect='auto')\n",
    "plt.colorbar().set_label('Intensity [e]',rotation=270,labelpad=25)\n",
    "plt.scatter(tmp['x']*512/8+512/2,tmp['y']*512/8+288/2,c=tmp['ID'],cmap='Greys',s=0.5)\n",
    "plt.xlim((tmp['xcam'].min()-10)//4,(tmp['xcam'].max()+10)//4)\n",
    "plt.ylim((tmp['ycam'].min()-10)//4,(tmp['ycam'].max()+10)//4)\n",
    "plt.xlabel('x [pixels]')\n",
    "plt.ylabel('y [pixels]')\n",
    "plt.title('4x4 binned image')\n",
    "\n",
    "plt.subplot(1,2,2)\n",
    "im = np.histogram2d(x,y,weights=f,bins=(512,288),range=((0,512),(0,288)))[0].T\n",
    "plt.imshow(im,cmap='jet',aspect='auto')\n",
    "plt.colorbar().set_label('ER fractional intensity',rotation = 270, labelpad = 25)\n",
    "plt.scatter(tmp['x']*512/8+512/2,tmp['y']*512/8+288/2,c=tmp['ID'],cmap='Greys',s=0.5)\n",
    "plt.xlim((tmp['xcam'].min()-10)//4,(tmp['xcam'].max()+10)//4)\n",
    "plt.ylim((tmp['ycam'].min()-10)//4,(tmp['ycam'].max()+10)//4)\n",
    "plt.xlabel('x [pixels]')\n",
    "plt.ylabel('y [pixels]')\n",
    "plt.title('4x4 binned fractional intensities')\n",
    "\n",
    "plt.tight_layout()\n",
    "plt.show()"
   ]
  },
  {
   "cell_type": "markdown",
   "id": "92e284b8",
   "metadata": {},
   "source": [
    "### Example 5: Now lets do some simple analyses.\n",
    "\n",
    "Let's define a **significant pixel** as one where the ER proportional intensity is above a certain threshold. For this example lets say this threshold is 1/3. We can then compute the number or fraction of significant pixels. This is a useful Migdal identification performance quantity, as it is a direct measure of ER detectability."
   ]
  },
  {
   "cell_type": "code",
   "execution_count": null,
   "id": "b3fd4006",
   "metadata": {},
   "outputs": [],
   "source": [
    "### Compute number of significant pixels\n",
    "\n",
    "threshold = 1/3 #ER intensity threshold\n",
    "df['frac_sigpix_cam'] = df['ER_frac_cam'].apply(lambda x: len(np.where(x > threshold)[0])/len(x))\n",
    "df['frac_sigpix_ITO'] = df['ER_frac_ITO'].apply(lambda x: len(np.where(x > threshold)[0])/len(x))"
   ]
  },
  {
   "cell_type": "code",
   "execution_count": null,
   "id": "f7c27f85",
   "metadata": {},
   "outputs": [],
   "source": [
    "#Histogram the number of significant pixels\n",
    "plt.figure(figsize=(12,5))\n",
    "plt.subplot(1,2,1)\n",
    "plt.hist(df['frac_sigpix_cam'],bins=20,range=(0,1))\n",
    "plt.xlabel('Significant ER pix frac')\n",
    "plt.title('Camera')\n",
    "plt.subplot(1,2,2)\n",
    "plt.hist(df['frac_sigpix_ITO'],bins=20,range=(0,1))\n",
    "plt.xlabel('Significant ER pix frac')\n",
    "plt.title('ITO')\n",
    "plt.tight_layout()\n",
    "plt.show()"
   ]
  },
  {
   "cell_type": "code",
   "execution_count": null,
   "id": "2a8a1a2e",
   "metadata": {},
   "outputs": [],
   "source": [
    "### We don't have enough data in this set to make nice plots of this but we can look at sig_pix fractions\n",
    "# versus ER and NR energy\n",
    "plt.figure(figsize=(12,5))\n",
    "plt.subplot(1,2,1)\n",
    "plt.plot(df['ER_truthE'],df['frac_sigpix_cam'],'o')\n",
    "plt.xlabel('ER Energy [keVee]')\n",
    "plt.ylabel('Significant ER pix frac')\n",
    "plt.subplot(1,2,2)\n",
    "plt.plot(df['NR_truthE'],df['frac_sigpix_cam'],'o')\n",
    "plt.xlabel('NR Energy [keVee]')\n",
    "plt.ylabel('Significant NR pix frac')\n",
    "plt.suptitle('Camera',size=20)\n",
    "plt.tight_layout()\n",
    "plt.show()"
   ]
  },
  {
   "cell_type": "markdown",
   "id": "316f2b03",
   "metadata": {},
   "source": [
    "### Example 6: Let's consider the angle between the truth ER and truth NR as a variable"
   ]
  },
  {
   "cell_type": "code",
   "execution_count": null,
   "id": "cb48eab9",
   "metadata": {},
   "outputs": [],
   "source": [
    "df['ER-NR_angle'] = df.apply(lambda x: np.arccos(np.dot(x['ER_truth_dir'],x['NR_truth_dir']))*180/np.pi,axis=1)"
   ]
  },
  {
   "cell_type": "code",
   "execution_count": null,
   "id": "52c799e9",
   "metadata": {},
   "outputs": [],
   "source": [
    "plt.hist(df['ER-NR_angle'],bins=10,range=(0,180))\n",
    "plt.xlabel(r'Angle between truth ER and NR [$^\\circ$]')"
   ]
  },
  {
   "cell_type": "code",
   "execution_count": null,
   "id": "097d4bd9",
   "metadata": {},
   "outputs": [],
   "source": [
    "### Can also consider fraction of sig. pix versus angle\n",
    "\n",
    "plt.figure(figsize=(12,5))\n",
    "plt.subplot(1,2,1)\n",
    "plt.plot(df['ER-NR_angle'],df['frac_sigpix_cam'],'o')\n",
    "plt.xlabel(r'Angle between truth ER and NR [$^\\circ$]')\n",
    "plt.ylabel('Significant ER pix frac')\n",
    "plt.title('Camera')\n",
    "plt.subplot(1,2,2)\n",
    "plt.plot(df['ER-NR_angle'],df['frac_sigpix_ITO'],'o')\n",
    "plt.xlabel(r'Angle between truth ER and NR [$^\\circ$]')\n",
    "plt.ylabel('Significant ER pix frac')\n",
    "plt.title('ITO')\n",
    "plt.tight_layout()\n",
    "plt.show()"
   ]
  }
 ],
 "metadata": {
  "kernelspec": {
   "display_name": "Python 3 (ipykernel)",
   "language": "python",
   "name": "python3"
  },
  "language_info": {
   "codemirror_mode": {
    "name": "ipython",
    "version": 3
   },
   "file_extension": ".py",
   "mimetype": "text/x-python",
   "name": "python",
   "nbconvert_exporter": "python",
   "pygments_lexer": "ipython3",
   "version": "3.10.14"
  }
 },
 "nbformat": 4,
 "nbformat_minor": 5
}
