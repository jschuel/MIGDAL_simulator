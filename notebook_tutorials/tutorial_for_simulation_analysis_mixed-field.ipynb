{
 "cells": [
  {
   "cell_type": "markdown",
   "id": "e8989452",
   "metadata": {},
   "source": [
    "### Processing and analyzing images\n",
    "This notebook highlights some basic essentials with processing and analyzing simulated images with a mixed-field sample of simulated ERs and NRs"
   ]
  },
  {
   "cell_type": "code",
   "execution_count": null,
   "id": "3fed2cbc",
   "metadata": {},
   "outputs": [],
   "source": [
    "import pandas as pd\n",
    "import numpy as np\n",
    "from tqdm import tqdm #progressbar\n",
    "import matplotlib.pyplot as plt\n",
    "'''Setting up some rcparameters for better size axis labels'''\n",
    "plt.rc('legend', fontsize=12)\n",
    "plt.rc('xtick', labelsize=14)\n",
    "plt.rc('ytick', labelsize=14)\n",
    "plt.rc('axes', labelsize=16)\n",
    "plt.rc('axes', titlesize=16)"
   ]
  },
  {
   "cell_type": "markdown",
   "id": "d6eef3af",
   "metadata": {},
   "source": [
    "### Descriptions of each column (for people who use ROOT you'll hear columns being called \"branches\") in our dataframe:\n",
    "\n",
    "-**nHits**: Number of primary electron tracks in the simulation\n",
    "\n",
    "-**x**, **y**, **z**: Primary track x, y, and z coordinates\n",
    "\n",
    "-**t**: Relative time of ionization deposit. (x,y,z) are sorted in time-order\n",
    "\n",
    "-**flag**: Not so important. Flag indicates the physical process with which the ionization electron was generated: 1=fluorescence; 2=pair production; 3=bremsstrahlung; 0=otherwise\n",
    "\n",
    "-**truth_dir**: (x,y,z) unit vector of track\n",
    "\n",
    "-**truth_energy**: Energy of the primary track\n",
    "\n",
    "-**ionization_energy**: ionization energy in CF4 of the primary track. This is computed as 'nHits' x W where W = 34.2 eV\n",
    "\n",
    "-**truth_theta**: truth zenith angle (w.r.t z-axis) determined by 'truth_dir'\n",
    "\n",
    "-**truth_phi**: truth aximuthal angle (in xy plane w.r.t +x) determined by 'truth_dir'\n",
    "\n",
    "-**drift_length**: Amount of drift simulated. Currently using a random-uniform distribution between 1cm and 2.5cm. TODO for Jeff: Make this adjustable in configuration.yaml\n",
    "\n",
    "-**xdiff**, **ydiff**, **zdiff**: x,y, and z coordinates of ionization after applying diffusion over 'drift_length'\n",
    "\n",
    "-**xamp**, **yamp**, **zamp**: The electrons from (xdiff,ydiff,zdiff) that align with the openings of a GEM hole\n",
    "\n",
    "-**xcam**, **ycam**, **qcam**: (x,y) after applying gain and diffusion through the transfer gap, binned to the 2048 x 1152 camera dimensions. 'qcam' is the number of amplified electrons falling into the bin\n",
    "\n",
    "-**xITO**, **zITO**, **qITO**: (x,z) after applying gain and diffusion through the transfer gap, *and induction gap* binned to 120 strips along x. z is quantified assuming 0.26um per bin. 'qITO' is the number of amplified electrons falling into the ITO bin"
   ]
  },
  {
   "cell_type": "code",
   "execution_count": null,
   "id": "af02adf3",
   "metadata": {},
   "outputs": [],
   "source": [
    "'''Load data and combine into a single dataframe\n",
    "you\"ll have to change the directories to wherever you downloaded\n",
    "the files to'''\n",
    "\n",
    "ERs = pd.read_feather(\"data/20000ERs_2-11.8keV_processed.feather\")\n",
    "NRs = pd.read_feather(\"RCTRIM/output/F_maxE466.957_5489primaryTracks.feather\")\n",
    "\n",
    "'''NRs doesn\"t have an nHits column, let\"s add one'''\n",
    "NRs['nHits'] = NRs['x'].apply(lambda x: len(x)) #Number of primary ionization electrons"
   ]
  },
  {
   "cell_type": "code",
   "execution_count": null,
   "id": "ff18eb85",
   "metadata": {},
   "outputs": [],
   "source": [
    "'''Before we combine we should check the columns in the ER dataframe that aren\"t in the NR dataframe'''\n",
    "print(f\"Columns not in NR: {[col for col in ERs.columns if col not in NRs.columns]}\")\n",
    "print(f\"Columns not in ER: {[col for col in NRs.columns if col not in ERs.columns]}\")"
   ]
  },
  {
   "cell_type": "code",
   "execution_count": null,
   "id": "51f0f387",
   "metadata": {},
   "outputs": [],
   "source": [
    "'''Lets make NR['species'] = 1 and ER['species'] = 0\n",
    "You can use this as the truth label for NRs and ERs respectively when performing\n",
    "ML studies'''\n",
    "\n",
    "NRs['species'] = 1\n",
    "ERs['species'] = 0\n",
    "\n",
    "'''Now let\"s drop the ER columns that aren\"t in the NR dataframe'''\n",
    "ERs = ERs.drop(columns = ['t','flag'])"
   ]
  },
  {
   "cell_type": "code",
   "execution_count": null,
   "id": "17da2c46",
   "metadata": {},
   "outputs": [],
   "source": [
    "'''Now that the columns match, we can merge the dataframes'''\n",
    "df = pd.concat([NRs,ERs]) #merge NRs and ERs\n",
    "df = df.sample(frac = 1) #randomize entries of dataframe\n",
    "df.index = [i for i in range(0,len(df))]"
   ]
  },
  {
   "cell_type": "code",
   "execution_count": null,
   "id": "1b99e27d",
   "metadata": {},
   "outputs": [],
   "source": [
    "'''Let\"s plot the species breakdown'''\n",
    "fig,ax = plt.subplots()\n",
    "ax.hist(df['species'],bins=2,range=(0,1))\n",
    "ax.set_xticks([0.25,0.75])\n",
    "ax.set_xticklabels(['ER','NR'])"
   ]
  },
  {
   "cell_type": "code",
   "execution_count": null,
   "id": "0fe29f3d",
   "metadata": {},
   "outputs": [],
   "source": [
    "\"\"\"Now let's look at energy distributions\"\"\"\n",
    "plt.hist(df.query('species == 0')['ionizationE'],bins=899,range = (2,450),label='ER')\n",
    "plt.hist(df.query('species == 1')['ionizationE'],bins=899,range = (2,450),label='NR')\n",
    "plt.yscale('log')\n",
    "plt.xscale('log')\n",
    "plt.xlabel(r'Ionization energy [$\\rm keV_{ee}$]')\n",
    "plt.ylabel('Counts')\n",
    "plt.legend()"
   ]
  },
  {
   "cell_type": "markdown",
   "id": "e49fe393",
   "metadata": {},
   "source": [
    "### Processing_images\n",
    "\n",
    "Binned images are stored in \"sparse\" format as opposed to \"dense\" format. Sparse data includes (x,y,z,...) coordinate info for pixels > threshold value (we use 0 here). This means we ignore all 0's in our image.\n",
    "This is computationally and storage efficient, as most of our image is empty (i.e. 0).\n",
    "\n",
    "A 2048 x 1152 image of 16 bit pixels is 2048 x 1152 x 16 bits x 1 byte / 8 bits = 4.7 MB\n",
    "\n",
    "On average, each image has around 7,000 non-zero pixels, so storing the image in sparse format gives:\\\n",
    "**2** & 7000 & 16 bits * 1byte / 8 bits = 28 kB **factor of 160 reduction over dense**\n",
    "\n",
    "The bolded **2** comes from the fact that we're looking at x-y images, so we have 7000 16-bit integers for x and an additional 7000 16-bit integers for y"
   ]
  },
  {
   "cell_type": "markdown",
   "id": "49777496",
   "metadata": {},
   "source": [
    "### Making images dense requires us binning them.\n",
    "**It's actually computationally faster to bin sparse coordinates so sparsity helps us in many ways**\n",
    "\n",
    "We'll be using [numpy's histogram2d function for this](https://numpy.org/doc/stable/reference/generated/numpy.histogram2d.html)"
   ]
  },
  {
   "cell_type": "code",
   "execution_count": null,
   "id": "6af1c5e5",
   "metadata": {},
   "outputs": [],
   "source": [
    "df.query('truthE == 11.8')"
   ]
  },
  {
   "cell_type": "code",
   "execution_count": null,
   "id": "48eee5d3",
   "metadata": {},
   "outputs": [],
   "source": [
    "# converting sparse coordinates to dense coordinates. Use np.histogram2d\n",
    "\n",
    "eventnum = 285 #let's look at event number 0\n",
    "\n",
    "event = df.iloc[eventnum] #grab the event\n",
    "\n",
    "#Declaring each argument for clarity. Native bin size is (2048,1152). xcam, and ycam\n",
    "#are already binned to 0-2047 and 0-1151, respectively\n",
    "#The function reference shows that argument 0 of the function is the 2D histogram (ndarray)\n",
    "\n",
    "im = np.histogram2d(x=event['xcam'],y=event['ycam'],weights=event['qcam'],\n",
    "                   bins=(2048,1152),range=((0,2048),(0,1152)))[0].T #transpose makes x and y as they should be"
   ]
  },
  {
   "cell_type": "code",
   "execution_count": null,
   "id": "de708926",
   "metadata": {},
   "outputs": [],
   "source": [
    "np.shape(im) #image shape is what we want"
   ]
  },
  {
   "cell_type": "code",
   "execution_count": null,
   "id": "eae4267f",
   "metadata": {},
   "outputs": [],
   "source": [
    "# Colormap reference https://matplotlib.org/stable/users/explain/colors/colormaps.html\n",
    "\n",
    "#Our group uses 'jet' for historical reasons. We really should use a perceptually uniform sequential\n",
    "#colormap like 'viridis' or 'plasma'\n",
    "plt.imshow(im,cmap='jet')\n",
    "plt.xlim(event['xcam'].min()-10,event['xcam'].max()+10)\n",
    "plt.ylim(event['ycam'].min()-10,event['ycam'].max()+10)"
   ]
  },
  {
   "cell_type": "code",
   "execution_count": null,
   "id": "7862c5aa",
   "metadata": {},
   "outputs": [],
   "source": [
    "'''Lets make a function to efficiently bin images'''\n",
    "\n",
    "#bin_factor is the factor we downsample the image by. For example\n",
    "#bin_factor = 4 is 4x4 binning\n",
    "def bin_image(i,bin_factor):\n",
    "    tmp = df.iloc[i]\n",
    "    im = np.histogram2d(x=tmp['xcam'],y=tmp['ycam'],weights=tmp['qcam'],\n",
    "                   bins=(2048//bin_factor,1152//bin_factor),\n",
    "                        range=((0,2048),(0,1152)))[0].T #transpose makes x and y as they should be\n",
    "    return im"
   ]
  },
  {
   "cell_type": "code",
   "execution_count": null,
   "id": "c9c0cf37",
   "metadata": {},
   "outputs": [],
   "source": [
    "bin_fact = 4\n",
    "plt.imshow(bin_image(eventnum,bin_factor = bin_fact),cmap='jet')\n",
    "plt.xlim((event['xcam'].min()-10)//bin_fact,(event['xcam'].max()+10)//bin_fact)\n",
    "plt.ylim((event['ycam'].min()-10)//bin_fact,(event['ycam'].max()+10)//bin_fact)"
   ]
  },
  {
   "cell_type": "markdown",
   "id": "f7867a75",
   "metadata": {},
   "source": [
    "### We've seen examples of plotting tracks, but for electron rejection, we want to come up with discriminates that can be used to reject ERs and keep NRs\n",
    "\n",
    "As an example let's compute the length of tracks in about the most rudimentary way we can think of. We could simply compute the length of the diagonal of the smallest bounding box fully containing each track"
   ]
  },
  {
   "cell_type": "code",
   "execution_count": null,
   "id": "e189679c",
   "metadata": {},
   "outputs": [],
   "source": [
    "'''The smallest bounding box is the box whose perimeter is defined by the minimum x and y coordinates\n",
    "Let\"s compute the x and y extrema for each event'''\n",
    "\n",
    "df['xmin'] = df['xcam'].apply(lambda x: x.min()) #minimum on camera readout\n",
    "df['ymin'] = df['ycam'].apply(lambda x: x.min()) #minimum on camera readout\n",
    "df['xmax'] = df['xcam'].apply(lambda x: x.max()) #maximum on camera readout\n",
    "df['ymax'] = df['ycam'].apply(lambda x: x.max()) #maximum on camera readout"
   ]
  },
  {
   "cell_type": "code",
   "execution_count": null,
   "id": "22f14bbb",
   "metadata": {},
   "outputs": [],
   "source": [
    "'''Now lets compute this length and convert to mm'''\n",
    "\n",
    "df['crude_length'] = np.sqrt((df['xmax']-df['xmin'])**2+(df['ymax']-df['ymin'])**2)*80/2048 #mm"
   ]
  },
  {
   "cell_type": "code",
   "execution_count": null,
   "id": "a3a649ac",
   "metadata": {},
   "outputs": [],
   "source": [
    "'''Just for fun lets plot this length on our track'''\n",
    "event = df.iloc[eventnum]\n",
    "plt.imshow(im,cmap='jet')\n",
    "'''plot bounding box'''\n",
    "plt.hlines(event['ymin'],event['xmin'],event['xmax'],color='red',lw=2) #bottom horiz line\n",
    "plt.hlines(event['ymax'],event['xmin'],event['xmax'],color='red',lw=2) #top horiz line\n",
    "plt.vlines(event['xmin'],event['ymin'],event['ymax'],color='red',lw=2) #left vert line\n",
    "plt.vlines(event['xmax'],event['ymin'],event['ymax'],color='red',lw=2) #right vert line\n",
    "'''plot length'''\n",
    "plt.plot([event['xmin'],event['xmax']],[event['ymin'],event['ymax']],color='w')\n",
    "plt.xlim(event['xcam'].min()-10,event['xcam'].max()+10)\n",
    "plt.ylim(event['ycam'].min()-10,event['ycam'].max()+10)"
   ]
  },
  {
   "cell_type": "markdown",
   "id": "7b52e580",
   "metadata": {},
   "source": [
    "### The above is a pretty poor approximation but its a start\n",
    "\n",
    "Now lets see how well length does as a discriminant"
   ]
  },
  {
   "cell_type": "code",
   "execution_count": null,
   "id": "5f549f60",
   "metadata": {},
   "outputs": [],
   "source": [
    "plt.hist(df.query('species == 0')['crude_length'],bins=101,range=(0,30),label='ER')\n",
    "plt.hist(df.query('species == 1')['crude_length'],bins=101,range=(0,30),label='NR')\n",
    "plt.xlabel('Length of bounding box diag [mm]')"
   ]
  },
  {
   "cell_type": "markdown",
   "id": "8af02008",
   "metadata": {},
   "source": [
    "### What if we add energy into the mix"
   ]
  },
  {
   "cell_type": "code",
   "execution_count": null,
   "id": "f7f54f4f",
   "metadata": {},
   "outputs": [],
   "source": [
    "plt.plot(df.query('species == 0')['crude_length'],df.query('species == 0')['ionizationE'],'o',label = 'ER',markersize = 2)\n",
    "plt.plot(df.query('species == 1')['crude_length'],df.query('species == 1')['ionizationE'],'o',label = 'NR',markersize = 2)\n",
    "plt.xlabel('Length of bounding box diag [mm]')\n",
    "plt.ylabel(r'Ionization energy [$\\rm keV_{ee}$]')\n",
    "plt.ylim(0,50)\n",
    "plt.legend()"
   ]
  },
  {
   "cell_type": "markdown",
   "id": "357bf99e",
   "metadata": {},
   "source": [
    "### Now we're getting somewhere!"
   ]
  },
  {
   "cell_type": "code",
   "execution_count": null,
   "id": "6f1123cc",
   "metadata": {},
   "outputs": [],
   "source": []
  }
 ],
 "metadata": {
  "kernelspec": {
   "display_name": "Python 3 (ipykernel)",
   "language": "python",
   "name": "python3"
  },
  "language_info": {
   "codemirror_mode": {
    "name": "ipython",
    "version": 3
   },
   "file_extension": ".py",
   "mimetype": "text/x-python",
   "name": "python",
   "nbconvert_exporter": "python",
   "pygments_lexer": "ipython3",
   "version": "3.10.14"
  }
 },
 "nbformat": 4,
 "nbformat_minor": 5
}
