{
 "cells": [
  {
   "cell_type": "code",
   "execution_count": null,
   "id": "a7044f9a",
   "metadata": {},
   "outputs": [],
   "source": [
    "import pandas as pd\n",
    "import matplotlib.pyplot as plt\n",
    "import numpy as np"
   ]
  },
  {
   "cell_type": "code",
   "execution_count": null,
   "id": "4fe8087c",
   "metadata": {},
   "outputs": [],
   "source": [
    "df = pd.read_feather(\"data/4.975keV_1000Events_all.feather\")"
   ]
  },
  {
   "cell_type": "code",
   "execution_count": null,
   "id": "a32cea5d",
   "metadata": {},
   "outputs": [],
   "source": [
    "i = 9\n",
    "tmp = df.iloc[i]\n",
    "plt.figure(figsize=(16,4.5))\n",
    "plt.subplot(1,2,1)\n",
    "'''Camera readout'''\n",
    "plt.hist2d(tmp['xcam'],tmp['ycam'],weights=tmp['qcam'],bins=(2048,1152),range=((0,2048),(0,1152)),cmap='jet')\n",
    "plt.plot(tmp['x']*2048/8+2048/2,tmp['y']*2048/8+1152/2,'o',color='magenta',markersize = 2)\n",
    "plt.xlim(tmp['xcam'].min()-10,tmp['xcam'].max()+10)\n",
    "plt.ylim(tmp['ycam'].min()-10,tmp['ycam'].max()+10)\n",
    "plt.xlabel('x [pixels]')\n",
    "plt.ylabel('y [pixels]')\n",
    "plt.colorbar()\n",
    "plt.subplot(1,2,2)\n",
    "'''ITO readout'''\n",
    "plt.hist2d(tmp['xITO'],tmp['zITO'],weights=tmp['qITO'],bins=(120,150),range=((0,120),(0,150)),cmap='jet')\n",
    "plt.plot(tmp['x']*120/10+60,tmp['z']*150/3.9,'o',color='magenta',markersize = 2)\n",
    "plt.xlim(tmp['xITO'].min()-5,tmp['xITO'].max()+5)\n",
    "plt.ylim(tmp['zITO'].min()-5,tmp['zITO'].max()+5)\n",
    "plt.xlabel('x [strip]')\n",
    "plt.ylabel('z [sample]')\n",
    "plt.colorbar()\n",
    "plt.tight_layout()\n",
    "plt.show()"
   ]
  },
  {
   "cell_type": "code",
   "execution_count": null,
   "id": "4d2ffa92",
   "metadata": {},
   "outputs": [],
   "source": []
  }
 ],
 "metadata": {
  "kernelspec": {
   "display_name": "Python 3 (ipykernel)",
   "language": "python",
   "name": "python3"
  },
  "language_info": {
   "codemirror_mode": {
    "name": "ipython",
    "version": 3
   },
   "file_extension": ".py",
   "mimetype": "text/x-python",
   "name": "python",
   "nbconvert_exporter": "python",
   "pygments_lexer": "ipython3",
   "version": "3.10.14"
  }
 },
 "nbformat": 4,
 "nbformat_minor": 5
}
